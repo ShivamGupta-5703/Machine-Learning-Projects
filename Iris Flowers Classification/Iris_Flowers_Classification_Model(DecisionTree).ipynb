{
  "nbformat": 4,
  "nbformat_minor": 0,
  "metadata": {
    "colab": {
      "provenance": []
    },
    "kernelspec": {
      "name": "python3",
      "display_name": "Python 3"
    },
    "language_info": {
      "name": "python"
    }
  },
  "cells": [
    {
      "cell_type": "code",
      "source": [
        "#Importing Modules -->\n",
        "\n",
        "import pandas as pd\n",
        "import numpy as np\n",
        "import matplotlib.pyplot as plt \n",
        "import seaborn as sns"
      ],
      "metadata": {
        "id": "Pc9-4LjVNP1x"
      },
      "execution_count": 36,
      "outputs": []
    },
    {
      "cell_type": "code",
      "execution_count": 37,
      "metadata": {
        "colab": {
          "base_uri": "https://localhost:8080/"
        },
        "id": "PI_v4G6n6c8A",
        "outputId": "e1e06def-64f3-4501-ebdd-1fcee30b6e4f"
      },
      "outputs": [
        {
          "output_type": "stream",
          "name": "stdout",
          "text": [
            "     SepalLengthCm  SepalWidthCm  PetalLengthCm  PetalWidthCm         Species\n",
            "0              5.1           3.5            1.4           0.2     Iris-setosa\n",
            "1              4.9           3.0            1.4           0.2     Iris-setosa\n",
            "2              4.7           3.2            1.3           0.2     Iris-setosa\n",
            "3              4.6           3.1            1.5           0.2     Iris-setosa\n",
            "4              5.0           3.6            1.4           0.2     Iris-setosa\n",
            "..             ...           ...            ...           ...             ...\n",
            "145            6.7           3.0            5.2           2.3  Iris-virginica\n",
            "146            6.3           2.5            5.0           1.9  Iris-virginica\n",
            "147            6.5           3.0            5.2           2.0  Iris-virginica\n",
            "148            6.2           3.4            5.4           2.3  Iris-virginica\n",
            "149            5.9           3.0            5.1           1.8  Iris-virginica\n",
            "\n",
            "[150 rows x 5 columns]\n"
          ]
        }
      ],
      "source": [
        "df=pd.read_csv('/content/Iris.csv')\n",
        "print(df)"
      ]
    },
    {
      "cell_type": "code",
      "source": [
        "#To print starting elements we use df.head(\"no of rows you want to print\").    #if empty starting 5 entry will print.\n",
        "df.head(10)"
      ],
      "metadata": {
        "colab": {
          "base_uri": "https://localhost:8080/",
          "height": 363
        },
        "id": "nKPyIC28B39J",
        "outputId": "fb774422-e316-49fe-c897-864fcd6b17a1"
      },
      "execution_count": 38,
      "outputs": [
        {
          "output_type": "execute_result",
          "data": {
            "text/plain": [
              "   SepalLengthCm  SepalWidthCm  PetalLengthCm  PetalWidthCm      Species\n",
              "0            5.1           3.5            1.4           0.2  Iris-setosa\n",
              "1            4.9           3.0            1.4           0.2  Iris-setosa\n",
              "2            4.7           3.2            1.3           0.2  Iris-setosa\n",
              "3            4.6           3.1            1.5           0.2  Iris-setosa\n",
              "4            5.0           3.6            1.4           0.2  Iris-setosa\n",
              "5            5.4           3.9            1.7           0.4  Iris-setosa\n",
              "6            4.6           3.4            1.4           0.3  Iris-setosa\n",
              "7            5.0           3.4            1.5           0.2  Iris-setosa\n",
              "8            4.4           2.9            1.4           0.2  Iris-setosa\n",
              "9            4.9           3.1            1.5           0.1  Iris-setosa"
            ],
            "text/html": [
              "\n",
              "  <div id=\"df-26bfceb9-a155-46a1-a462-ff1fbdfb1e3c\">\n",
              "    <div class=\"colab-df-container\">\n",
              "      <div>\n",
              "<style scoped>\n",
              "    .dataframe tbody tr th:only-of-type {\n",
              "        vertical-align: middle;\n",
              "    }\n",
              "\n",
              "    .dataframe tbody tr th {\n",
              "        vertical-align: top;\n",
              "    }\n",
              "\n",
              "    .dataframe thead th {\n",
              "        text-align: right;\n",
              "    }\n",
              "</style>\n",
              "<table border=\"1\" class=\"dataframe\">\n",
              "  <thead>\n",
              "    <tr style=\"text-align: right;\">\n",
              "      <th></th>\n",
              "      <th>SepalLengthCm</th>\n",
              "      <th>SepalWidthCm</th>\n",
              "      <th>PetalLengthCm</th>\n",
              "      <th>PetalWidthCm</th>\n",
              "      <th>Species</th>\n",
              "    </tr>\n",
              "  </thead>\n",
              "  <tbody>\n",
              "    <tr>\n",
              "      <th>0</th>\n",
              "      <td>5.1</td>\n",
              "      <td>3.5</td>\n",
              "      <td>1.4</td>\n",
              "      <td>0.2</td>\n",
              "      <td>Iris-setosa</td>\n",
              "    </tr>\n",
              "    <tr>\n",
              "      <th>1</th>\n",
              "      <td>4.9</td>\n",
              "      <td>3.0</td>\n",
              "      <td>1.4</td>\n",
              "      <td>0.2</td>\n",
              "      <td>Iris-setosa</td>\n",
              "    </tr>\n",
              "    <tr>\n",
              "      <th>2</th>\n",
              "      <td>4.7</td>\n",
              "      <td>3.2</td>\n",
              "      <td>1.3</td>\n",
              "      <td>0.2</td>\n",
              "      <td>Iris-setosa</td>\n",
              "    </tr>\n",
              "    <tr>\n",
              "      <th>3</th>\n",
              "      <td>4.6</td>\n",
              "      <td>3.1</td>\n",
              "      <td>1.5</td>\n",
              "      <td>0.2</td>\n",
              "      <td>Iris-setosa</td>\n",
              "    </tr>\n",
              "    <tr>\n",
              "      <th>4</th>\n",
              "      <td>5.0</td>\n",
              "      <td>3.6</td>\n",
              "      <td>1.4</td>\n",
              "      <td>0.2</td>\n",
              "      <td>Iris-setosa</td>\n",
              "    </tr>\n",
              "    <tr>\n",
              "      <th>5</th>\n",
              "      <td>5.4</td>\n",
              "      <td>3.9</td>\n",
              "      <td>1.7</td>\n",
              "      <td>0.4</td>\n",
              "      <td>Iris-setosa</td>\n",
              "    </tr>\n",
              "    <tr>\n",
              "      <th>6</th>\n",
              "      <td>4.6</td>\n",
              "      <td>3.4</td>\n",
              "      <td>1.4</td>\n",
              "      <td>0.3</td>\n",
              "      <td>Iris-setosa</td>\n",
              "    </tr>\n",
              "    <tr>\n",
              "      <th>7</th>\n",
              "      <td>5.0</td>\n",
              "      <td>3.4</td>\n",
              "      <td>1.5</td>\n",
              "      <td>0.2</td>\n",
              "      <td>Iris-setosa</td>\n",
              "    </tr>\n",
              "    <tr>\n",
              "      <th>8</th>\n",
              "      <td>4.4</td>\n",
              "      <td>2.9</td>\n",
              "      <td>1.4</td>\n",
              "      <td>0.2</td>\n",
              "      <td>Iris-setosa</td>\n",
              "    </tr>\n",
              "    <tr>\n",
              "      <th>9</th>\n",
              "      <td>4.9</td>\n",
              "      <td>3.1</td>\n",
              "      <td>1.5</td>\n",
              "      <td>0.1</td>\n",
              "      <td>Iris-setosa</td>\n",
              "    </tr>\n",
              "  </tbody>\n",
              "</table>\n",
              "</div>\n",
              "      <button class=\"colab-df-convert\" onclick=\"convertToInteractive('df-26bfceb9-a155-46a1-a462-ff1fbdfb1e3c')\"\n",
              "              title=\"Convert this dataframe to an interactive table.\"\n",
              "              style=\"display:none;\">\n",
              "        \n",
              "  <svg xmlns=\"http://www.w3.org/2000/svg\" height=\"24px\"viewBox=\"0 0 24 24\"\n",
              "       width=\"24px\">\n",
              "    <path d=\"M0 0h24v24H0V0z\" fill=\"none\"/>\n",
              "    <path d=\"M18.56 5.44l.94 2.06.94-2.06 2.06-.94-2.06-.94-.94-2.06-.94 2.06-2.06.94zm-11 1L8.5 8.5l.94-2.06 2.06-.94-2.06-.94L8.5 2.5l-.94 2.06-2.06.94zm10 10l.94 2.06.94-2.06 2.06-.94-2.06-.94-.94-2.06-.94 2.06-2.06.94z\"/><path d=\"M17.41 7.96l-1.37-1.37c-.4-.4-.92-.59-1.43-.59-.52 0-1.04.2-1.43.59L10.3 9.45l-7.72 7.72c-.78.78-.78 2.05 0 2.83L4 21.41c.39.39.9.59 1.41.59.51 0 1.02-.2 1.41-.59l7.78-7.78 2.81-2.81c.8-.78.8-2.07 0-2.86zM5.41 20L4 18.59l7.72-7.72 1.47 1.35L5.41 20z\"/>\n",
              "  </svg>\n",
              "      </button>\n",
              "      \n",
              "  <style>\n",
              "    .colab-df-container {\n",
              "      display:flex;\n",
              "      flex-wrap:wrap;\n",
              "      gap: 12px;\n",
              "    }\n",
              "\n",
              "    .colab-df-convert {\n",
              "      background-color: #E8F0FE;\n",
              "      border: none;\n",
              "      border-radius: 50%;\n",
              "      cursor: pointer;\n",
              "      display: none;\n",
              "      fill: #1967D2;\n",
              "      height: 32px;\n",
              "      padding: 0 0 0 0;\n",
              "      width: 32px;\n",
              "    }\n",
              "\n",
              "    .colab-df-convert:hover {\n",
              "      background-color: #E2EBFA;\n",
              "      box-shadow: 0px 1px 2px rgba(60, 64, 67, 0.3), 0px 1px 3px 1px rgba(60, 64, 67, 0.15);\n",
              "      fill: #174EA6;\n",
              "    }\n",
              "\n",
              "    [theme=dark] .colab-df-convert {\n",
              "      background-color: #3B4455;\n",
              "      fill: #D2E3FC;\n",
              "    }\n",
              "\n",
              "    [theme=dark] .colab-df-convert:hover {\n",
              "      background-color: #434B5C;\n",
              "      box-shadow: 0px 1px 3px 1px rgba(0, 0, 0, 0.15);\n",
              "      filter: drop-shadow(0px 1px 2px rgba(0, 0, 0, 0.3));\n",
              "      fill: #FFFFFF;\n",
              "    }\n",
              "  </style>\n",
              "\n",
              "      <script>\n",
              "        const buttonEl =\n",
              "          document.querySelector('#df-26bfceb9-a155-46a1-a462-ff1fbdfb1e3c button.colab-df-convert');\n",
              "        buttonEl.style.display =\n",
              "          google.colab.kernel.accessAllowed ? 'block' : 'none';\n",
              "\n",
              "        async function convertToInteractive(key) {\n",
              "          const element = document.querySelector('#df-26bfceb9-a155-46a1-a462-ff1fbdfb1e3c');\n",
              "          const dataTable =\n",
              "            await google.colab.kernel.invokeFunction('convertToInteractive',\n",
              "                                                     [key], {});\n",
              "          if (!dataTable) return;\n",
              "\n",
              "          const docLinkHtml = 'Like what you see? Visit the ' +\n",
              "            '<a target=\"_blank\" href=https://colab.research.google.com/notebooks/data_table.ipynb>data table notebook</a>'\n",
              "            + ' to learn more about interactive tables.';\n",
              "          element.innerHTML = '';\n",
              "          dataTable['output_type'] = 'display_data';\n",
              "          await google.colab.output.renderOutput(dataTable, element);\n",
              "          const docLink = document.createElement('div');\n",
              "          docLink.innerHTML = docLinkHtml;\n",
              "          element.appendChild(docLink);\n",
              "        }\n",
              "      </script>\n",
              "    </div>\n",
              "  </div>\n",
              "  "
            ]
          },
          "metadata": {},
          "execution_count": 38
        }
      ]
    },
    {
      "cell_type": "code",
      "source": [
        "#To print elements from last we use df.tail(\"no of rows you want to print\").\n",
        "df.tail(10)"
      ],
      "metadata": {
        "colab": {
          "base_uri": "https://localhost:8080/",
          "height": 363
        },
        "id": "edyFY_sbB6AV",
        "outputId": "7267a580-ff88-4361-e3ec-474fbb4fda74"
      },
      "execution_count": 39,
      "outputs": [
        {
          "output_type": "execute_result",
          "data": {
            "text/plain": [
              "     SepalLengthCm  SepalWidthCm  PetalLengthCm  PetalWidthCm         Species\n",
              "140            6.7           3.1            5.6           2.4  Iris-virginica\n",
              "141            6.9           3.1            5.1           2.3  Iris-virginica\n",
              "142            5.8           2.7            5.1           1.9  Iris-virginica\n",
              "143            6.8           3.2            5.9           2.3  Iris-virginica\n",
              "144            6.7           3.3            5.7           2.5  Iris-virginica\n",
              "145            6.7           3.0            5.2           2.3  Iris-virginica\n",
              "146            6.3           2.5            5.0           1.9  Iris-virginica\n",
              "147            6.5           3.0            5.2           2.0  Iris-virginica\n",
              "148            6.2           3.4            5.4           2.3  Iris-virginica\n",
              "149            5.9           3.0            5.1           1.8  Iris-virginica"
            ],
            "text/html": [
              "\n",
              "  <div id=\"df-16e9c2f0-79a4-4a93-aea1-f4c7bec5f7fd\">\n",
              "    <div class=\"colab-df-container\">\n",
              "      <div>\n",
              "<style scoped>\n",
              "    .dataframe tbody tr th:only-of-type {\n",
              "        vertical-align: middle;\n",
              "    }\n",
              "\n",
              "    .dataframe tbody tr th {\n",
              "        vertical-align: top;\n",
              "    }\n",
              "\n",
              "    .dataframe thead th {\n",
              "        text-align: right;\n",
              "    }\n",
              "</style>\n",
              "<table border=\"1\" class=\"dataframe\">\n",
              "  <thead>\n",
              "    <tr style=\"text-align: right;\">\n",
              "      <th></th>\n",
              "      <th>SepalLengthCm</th>\n",
              "      <th>SepalWidthCm</th>\n",
              "      <th>PetalLengthCm</th>\n",
              "      <th>PetalWidthCm</th>\n",
              "      <th>Species</th>\n",
              "    </tr>\n",
              "  </thead>\n",
              "  <tbody>\n",
              "    <tr>\n",
              "      <th>140</th>\n",
              "      <td>6.7</td>\n",
              "      <td>3.1</td>\n",
              "      <td>5.6</td>\n",
              "      <td>2.4</td>\n",
              "      <td>Iris-virginica</td>\n",
              "    </tr>\n",
              "    <tr>\n",
              "      <th>141</th>\n",
              "      <td>6.9</td>\n",
              "      <td>3.1</td>\n",
              "      <td>5.1</td>\n",
              "      <td>2.3</td>\n",
              "      <td>Iris-virginica</td>\n",
              "    </tr>\n",
              "    <tr>\n",
              "      <th>142</th>\n",
              "      <td>5.8</td>\n",
              "      <td>2.7</td>\n",
              "      <td>5.1</td>\n",
              "      <td>1.9</td>\n",
              "      <td>Iris-virginica</td>\n",
              "    </tr>\n",
              "    <tr>\n",
              "      <th>143</th>\n",
              "      <td>6.8</td>\n",
              "      <td>3.2</td>\n",
              "      <td>5.9</td>\n",
              "      <td>2.3</td>\n",
              "      <td>Iris-virginica</td>\n",
              "    </tr>\n",
              "    <tr>\n",
              "      <th>144</th>\n",
              "      <td>6.7</td>\n",
              "      <td>3.3</td>\n",
              "      <td>5.7</td>\n",
              "      <td>2.5</td>\n",
              "      <td>Iris-virginica</td>\n",
              "    </tr>\n",
              "    <tr>\n",
              "      <th>145</th>\n",
              "      <td>6.7</td>\n",
              "      <td>3.0</td>\n",
              "      <td>5.2</td>\n",
              "      <td>2.3</td>\n",
              "      <td>Iris-virginica</td>\n",
              "    </tr>\n",
              "    <tr>\n",
              "      <th>146</th>\n",
              "      <td>6.3</td>\n",
              "      <td>2.5</td>\n",
              "      <td>5.0</td>\n",
              "      <td>1.9</td>\n",
              "      <td>Iris-virginica</td>\n",
              "    </tr>\n",
              "    <tr>\n",
              "      <th>147</th>\n",
              "      <td>6.5</td>\n",
              "      <td>3.0</td>\n",
              "      <td>5.2</td>\n",
              "      <td>2.0</td>\n",
              "      <td>Iris-virginica</td>\n",
              "    </tr>\n",
              "    <tr>\n",
              "      <th>148</th>\n",
              "      <td>6.2</td>\n",
              "      <td>3.4</td>\n",
              "      <td>5.4</td>\n",
              "      <td>2.3</td>\n",
              "      <td>Iris-virginica</td>\n",
              "    </tr>\n",
              "    <tr>\n",
              "      <th>149</th>\n",
              "      <td>5.9</td>\n",
              "      <td>3.0</td>\n",
              "      <td>5.1</td>\n",
              "      <td>1.8</td>\n",
              "      <td>Iris-virginica</td>\n",
              "    </tr>\n",
              "  </tbody>\n",
              "</table>\n",
              "</div>\n",
              "      <button class=\"colab-df-convert\" onclick=\"convertToInteractive('df-16e9c2f0-79a4-4a93-aea1-f4c7bec5f7fd')\"\n",
              "              title=\"Convert this dataframe to an interactive table.\"\n",
              "              style=\"display:none;\">\n",
              "        \n",
              "  <svg xmlns=\"http://www.w3.org/2000/svg\" height=\"24px\"viewBox=\"0 0 24 24\"\n",
              "       width=\"24px\">\n",
              "    <path d=\"M0 0h24v24H0V0z\" fill=\"none\"/>\n",
              "    <path d=\"M18.56 5.44l.94 2.06.94-2.06 2.06-.94-2.06-.94-.94-2.06-.94 2.06-2.06.94zm-11 1L8.5 8.5l.94-2.06 2.06-.94-2.06-.94L8.5 2.5l-.94 2.06-2.06.94zm10 10l.94 2.06.94-2.06 2.06-.94-2.06-.94-.94-2.06-.94 2.06-2.06.94z\"/><path d=\"M17.41 7.96l-1.37-1.37c-.4-.4-.92-.59-1.43-.59-.52 0-1.04.2-1.43.59L10.3 9.45l-7.72 7.72c-.78.78-.78 2.05 0 2.83L4 21.41c.39.39.9.59 1.41.59.51 0 1.02-.2 1.41-.59l7.78-7.78 2.81-2.81c.8-.78.8-2.07 0-2.86zM5.41 20L4 18.59l7.72-7.72 1.47 1.35L5.41 20z\"/>\n",
              "  </svg>\n",
              "      </button>\n",
              "      \n",
              "  <style>\n",
              "    .colab-df-container {\n",
              "      display:flex;\n",
              "      flex-wrap:wrap;\n",
              "      gap: 12px;\n",
              "    }\n",
              "\n",
              "    .colab-df-convert {\n",
              "      background-color: #E8F0FE;\n",
              "      border: none;\n",
              "      border-radius: 50%;\n",
              "      cursor: pointer;\n",
              "      display: none;\n",
              "      fill: #1967D2;\n",
              "      height: 32px;\n",
              "      padding: 0 0 0 0;\n",
              "      width: 32px;\n",
              "    }\n",
              "\n",
              "    .colab-df-convert:hover {\n",
              "      background-color: #E2EBFA;\n",
              "      box-shadow: 0px 1px 2px rgba(60, 64, 67, 0.3), 0px 1px 3px 1px rgba(60, 64, 67, 0.15);\n",
              "      fill: #174EA6;\n",
              "    }\n",
              "\n",
              "    [theme=dark] .colab-df-convert {\n",
              "      background-color: #3B4455;\n",
              "      fill: #D2E3FC;\n",
              "    }\n",
              "\n",
              "    [theme=dark] .colab-df-convert:hover {\n",
              "      background-color: #434B5C;\n",
              "      box-shadow: 0px 1px 3px 1px rgba(0, 0, 0, 0.15);\n",
              "      filter: drop-shadow(0px 1px 2px rgba(0, 0, 0, 0.3));\n",
              "      fill: #FFFFFF;\n",
              "    }\n",
              "  </style>\n",
              "\n",
              "      <script>\n",
              "        const buttonEl =\n",
              "          document.querySelector('#df-16e9c2f0-79a4-4a93-aea1-f4c7bec5f7fd button.colab-df-convert');\n",
              "        buttonEl.style.display =\n",
              "          google.colab.kernel.accessAllowed ? 'block' : 'none';\n",
              "\n",
              "        async function convertToInteractive(key) {\n",
              "          const element = document.querySelector('#df-16e9c2f0-79a4-4a93-aea1-f4c7bec5f7fd');\n",
              "          const dataTable =\n",
              "            await google.colab.kernel.invokeFunction('convertToInteractive',\n",
              "                                                     [key], {});\n",
              "          if (!dataTable) return;\n",
              "\n",
              "          const docLinkHtml = 'Like what you see? Visit the ' +\n",
              "            '<a target=\"_blank\" href=https://colab.research.google.com/notebooks/data_table.ipynb>data table notebook</a>'\n",
              "            + ' to learn more about interactive tables.';\n",
              "          element.innerHTML = '';\n",
              "          dataTable['output_type'] = 'display_data';\n",
              "          await google.colab.output.renderOutput(dataTable, element);\n",
              "          const docLink = document.createElement('div');\n",
              "          docLink.innerHTML = docLinkHtml;\n",
              "          element.appendChild(docLink);\n",
              "        }\n",
              "      </script>\n",
              "    </div>\n",
              "  </div>\n",
              "  "
            ]
          },
          "metadata": {},
          "execution_count": 39
        }
      ]
    },
    {
      "cell_type": "code",
      "source": [
        "#to print every entry,we use- \"df.to_string()\"\n",
        "print(df.to_string())"
      ],
      "metadata": {
        "colab": {
          "base_uri": "https://localhost:8080/"
        },
        "id": "nRkAhNuPB8e3",
        "outputId": "91e0d9ad-b4d8-476a-ad53-22b4e929c7e6"
      },
      "execution_count": 40,
      "outputs": [
        {
          "output_type": "stream",
          "name": "stdout",
          "text": [
            "     SepalLengthCm  SepalWidthCm  PetalLengthCm  PetalWidthCm          Species\n",
            "0              5.1           3.5            1.4           0.2      Iris-setosa\n",
            "1              4.9           3.0            1.4           0.2      Iris-setosa\n",
            "2              4.7           3.2            1.3           0.2      Iris-setosa\n",
            "3              4.6           3.1            1.5           0.2      Iris-setosa\n",
            "4              5.0           3.6            1.4           0.2      Iris-setosa\n",
            "5              5.4           3.9            1.7           0.4      Iris-setosa\n",
            "6              4.6           3.4            1.4           0.3      Iris-setosa\n",
            "7              5.0           3.4            1.5           0.2      Iris-setosa\n",
            "8              4.4           2.9            1.4           0.2      Iris-setosa\n",
            "9              4.9           3.1            1.5           0.1      Iris-setosa\n",
            "10             5.4           3.7            1.5           0.2      Iris-setosa\n",
            "11             4.8           3.4            1.6           0.2      Iris-setosa\n",
            "12             4.8           3.0            1.4           0.1      Iris-setosa\n",
            "13             4.3           3.0            1.1           0.1      Iris-setosa\n",
            "14             5.8           4.0            1.2           0.2      Iris-setosa\n",
            "15             5.7           4.4            1.5           0.4      Iris-setosa\n",
            "16             5.4           3.9            1.3           0.4      Iris-setosa\n",
            "17             5.1           3.5            1.4           0.3      Iris-setosa\n",
            "18             5.7           3.8            1.7           0.3      Iris-setosa\n",
            "19             5.1           3.8            1.5           0.3      Iris-setosa\n",
            "20             5.4           3.4            1.7           0.2      Iris-setosa\n",
            "21             5.1           3.7            1.5           0.4      Iris-setosa\n",
            "22             4.6           3.6            1.0           0.2      Iris-setosa\n",
            "23             5.1           3.3            1.7           0.5      Iris-setosa\n",
            "24             4.8           3.4            1.9           0.2      Iris-setosa\n",
            "25             5.0           3.0            1.6           0.2      Iris-setosa\n",
            "26             5.0           3.4            1.6           0.4      Iris-setosa\n",
            "27             5.2           3.5            1.5           0.2      Iris-setosa\n",
            "28             5.2           3.4            1.4           0.2      Iris-setosa\n",
            "29             4.7           3.2            1.6           0.2      Iris-setosa\n",
            "30             4.8           3.1            1.6           0.2      Iris-setosa\n",
            "31             5.4           3.4            1.5           0.4      Iris-setosa\n",
            "32             5.2           4.1            1.5           0.1      Iris-setosa\n",
            "33             5.5           4.2            1.4           0.2      Iris-setosa\n",
            "34             4.9           3.1            1.5           0.1      Iris-setosa\n",
            "35             5.0           3.2            1.2           0.2      Iris-setosa\n",
            "36             5.5           3.5            1.3           0.2      Iris-setosa\n",
            "37             4.9           3.1            1.5           0.1      Iris-setosa\n",
            "38             4.4           3.0            1.3           0.2      Iris-setosa\n",
            "39             5.1           3.4            1.5           0.2      Iris-setosa\n",
            "40             5.0           3.5            1.3           0.3      Iris-setosa\n",
            "41             4.5           2.3            1.3           0.3      Iris-setosa\n",
            "42             4.4           3.2            1.3           0.2      Iris-setosa\n",
            "43             5.0           3.5            1.6           0.6      Iris-setosa\n",
            "44             5.1           3.8            1.9           0.4      Iris-setosa\n",
            "45             4.8           3.0            1.4           0.3      Iris-setosa\n",
            "46             5.1           3.8            1.6           0.2      Iris-setosa\n",
            "47             4.6           3.2            1.4           0.2      Iris-setosa\n",
            "48             5.3           3.7            1.5           0.2      Iris-setosa\n",
            "49             5.0           3.3            1.4           0.2      Iris-setosa\n",
            "50             7.0           3.2            4.7           1.4  Iris-versicolor\n",
            "51             6.4           3.2            4.5           1.5  Iris-versicolor\n",
            "52             6.9           3.1            4.9           1.5  Iris-versicolor\n",
            "53             5.5           2.3            4.0           1.3  Iris-versicolor\n",
            "54             6.5           2.8            4.6           1.5  Iris-versicolor\n",
            "55             5.7           2.8            4.5           1.3  Iris-versicolor\n",
            "56             6.3           3.3            4.7           1.6  Iris-versicolor\n",
            "57             4.9           2.4            3.3           1.0  Iris-versicolor\n",
            "58             6.6           2.9            4.6           1.3  Iris-versicolor\n",
            "59             5.2           2.7            3.9           1.4  Iris-versicolor\n",
            "60             5.0           2.0            3.5           1.0  Iris-versicolor\n",
            "61             5.9           3.0            4.2           1.5  Iris-versicolor\n",
            "62             6.0           2.2            4.0           1.0  Iris-versicolor\n",
            "63             6.1           2.9            4.7           1.4  Iris-versicolor\n",
            "64             5.6           2.9            3.6           1.3  Iris-versicolor\n",
            "65             6.7           3.1            4.4           1.4  Iris-versicolor\n",
            "66             5.6           3.0            4.5           1.5  Iris-versicolor\n",
            "67             5.8           2.7            4.1           1.0  Iris-versicolor\n",
            "68             6.2           2.2            4.5           1.5  Iris-versicolor\n",
            "69             5.6           2.5            3.9           1.1  Iris-versicolor\n",
            "70             5.9           3.2            4.8           1.8  Iris-versicolor\n",
            "71             6.1           2.8            4.0           1.3  Iris-versicolor\n",
            "72             6.3           2.5            4.9           1.5  Iris-versicolor\n",
            "73             6.1           2.8            4.7           1.2  Iris-versicolor\n",
            "74             6.4           2.9            4.3           1.3  Iris-versicolor\n",
            "75             6.6           3.0            4.4           1.4  Iris-versicolor\n",
            "76             6.8           2.8            4.8           1.4  Iris-versicolor\n",
            "77             6.7           3.0            5.0           1.7  Iris-versicolor\n",
            "78             6.0           2.9            4.5           1.5  Iris-versicolor\n",
            "79             5.7           2.6            3.5           1.0  Iris-versicolor\n",
            "80             5.5           2.4            3.8           1.1  Iris-versicolor\n",
            "81             5.5           2.4            3.7           1.0  Iris-versicolor\n",
            "82             5.8           2.7            3.9           1.2  Iris-versicolor\n",
            "83             6.0           2.7            5.1           1.6  Iris-versicolor\n",
            "84             5.4           3.0            4.5           1.5  Iris-versicolor\n",
            "85             6.0           3.4            4.5           1.6  Iris-versicolor\n",
            "86             6.7           3.1            4.7           1.5  Iris-versicolor\n",
            "87             6.3           2.3            4.4           1.3  Iris-versicolor\n",
            "88             5.6           3.0            4.1           1.3  Iris-versicolor\n",
            "89             5.5           2.5            4.0           1.3  Iris-versicolor\n",
            "90             5.5           2.6            4.4           1.2  Iris-versicolor\n",
            "91             6.1           3.0            4.6           1.4  Iris-versicolor\n",
            "92             5.8           2.6            4.0           1.2  Iris-versicolor\n",
            "93             5.0           2.3            3.3           1.0  Iris-versicolor\n",
            "94             5.6           2.7            4.2           1.3  Iris-versicolor\n",
            "95             5.7           3.0            4.2           1.2  Iris-versicolor\n",
            "96             5.7           2.9            4.2           1.3  Iris-versicolor\n",
            "97             6.2           2.9            4.3           1.3  Iris-versicolor\n",
            "98             5.1           2.5            3.0           1.1  Iris-versicolor\n",
            "99             5.7           2.8            4.1           1.3  Iris-versicolor\n",
            "100            6.3           3.3            6.0           2.5   Iris-virginica\n",
            "101            5.8           2.7            5.1           1.9   Iris-virginica\n",
            "102            7.1           3.0            5.9           2.1   Iris-virginica\n",
            "103            6.3           2.9            5.6           1.8   Iris-virginica\n",
            "104            6.5           3.0            5.8           2.2   Iris-virginica\n",
            "105            7.6           3.0            6.6           2.1   Iris-virginica\n",
            "106            4.9           2.5            4.5           1.7   Iris-virginica\n",
            "107            7.3           2.9            6.3           1.8   Iris-virginica\n",
            "108            6.7           2.5            5.8           1.8   Iris-virginica\n",
            "109            7.2           3.6            6.1           2.5   Iris-virginica\n",
            "110            6.5           3.2            5.1           2.0   Iris-virginica\n",
            "111            6.4           2.7            5.3           1.9   Iris-virginica\n",
            "112            6.8           3.0            5.5           2.1   Iris-virginica\n",
            "113            5.7           2.5            5.0           2.0   Iris-virginica\n",
            "114            5.8           2.8            5.1           2.4   Iris-virginica\n",
            "115            6.4           3.2            5.3           2.3   Iris-virginica\n",
            "116            6.5           3.0            5.5           1.8   Iris-virginica\n",
            "117            7.7           3.8            6.7           2.2   Iris-virginica\n",
            "118            7.7           2.6            6.9           2.3   Iris-virginica\n",
            "119            6.0           2.2            5.0           1.5   Iris-virginica\n",
            "120            6.9           3.2            5.7           2.3   Iris-virginica\n",
            "121            5.6           2.8            4.9           2.0   Iris-virginica\n",
            "122            7.7           2.8            6.7           2.0   Iris-virginica\n",
            "123            6.3           2.7            4.9           1.8   Iris-virginica\n",
            "124            6.7           3.3            5.7           2.1   Iris-virginica\n",
            "125            7.2           3.2            6.0           1.8   Iris-virginica\n",
            "126            6.2           2.8            4.8           1.8   Iris-virginica\n",
            "127            6.1           3.0            4.9           1.8   Iris-virginica\n",
            "128            6.4           2.8            5.6           2.1   Iris-virginica\n",
            "129            7.2           3.0            5.8           1.6   Iris-virginica\n",
            "130            7.4           2.8            6.1           1.9   Iris-virginica\n",
            "131            7.9           3.8            6.4           2.0   Iris-virginica\n",
            "132            6.4           2.8            5.6           2.2   Iris-virginica\n",
            "133            6.3           2.8            5.1           1.5   Iris-virginica\n",
            "134            6.1           2.6            5.6           1.4   Iris-virginica\n",
            "135            7.7           3.0            6.1           2.3   Iris-virginica\n",
            "136            6.3           3.4            5.6           2.4   Iris-virginica\n",
            "137            6.4           3.1            5.5           1.8   Iris-virginica\n",
            "138            6.0           3.0            4.8           1.8   Iris-virginica\n",
            "139            6.9           3.1            5.4           2.1   Iris-virginica\n",
            "140            6.7           3.1            5.6           2.4   Iris-virginica\n",
            "141            6.9           3.1            5.1           2.3   Iris-virginica\n",
            "142            5.8           2.7            5.1           1.9   Iris-virginica\n",
            "143            6.8           3.2            5.9           2.3   Iris-virginica\n",
            "144            6.7           3.3            5.7           2.5   Iris-virginica\n",
            "145            6.7           3.0            5.2           2.3   Iris-virginica\n",
            "146            6.3           2.5            5.0           1.9   Iris-virginica\n",
            "147            6.5           3.0            5.2           2.0   Iris-virginica\n",
            "148            6.2           3.4            5.4           2.3   Iris-virginica\n",
            "149            5.9           3.0            5.1           1.8   Iris-virginica\n"
          ]
        }
      ]
    },
    {
      "cell_type": "code",
      "source": [
        "df.corr()          #diagonal elements are equal.\n",
        "                     #negative value means inversely proportional.\n",
        "                     #positive value means directly proportional.\n",
        "                     #if magnitude is high (>0.5)of positive value then it is highky related [mtlb agar ek ko increase karenge,toh doosra bhi increase karega],\n",
        "                     #and in negative value with high magnitude increase karenge toh decrese hoga becoz inversely proportional.\n",
        "\n",
        "                     #if magnitude is low (<0.5)of positive value then it is less related and for negative value it is also less corelated."
      ],
      "metadata": {
        "colab": {
          "base_uri": "https://localhost:8080/",
          "height": 231
        },
        "id": "ZxuUqruvCL-t",
        "outputId": "52a96836-67c0-43aa-e371-5b850fbf02ef"
      },
      "execution_count": 41,
      "outputs": [
        {
          "output_type": "stream",
          "name": "stderr",
          "text": [
            "<ipython-input-41-1a235bd2161f>:1: FutureWarning: The default value of numeric_only in DataFrame.corr is deprecated. In a future version, it will default to False. Select only valid columns or specify the value of numeric_only to silence this warning.\n",
            "  df.corr()          #diagonal elements are equal.\n"
          ]
        },
        {
          "output_type": "execute_result",
          "data": {
            "text/plain": [
              "               SepalLengthCm  SepalWidthCm  PetalLengthCm  PetalWidthCm\n",
              "SepalLengthCm       1.000000     -0.109369       0.871754      0.817954\n",
              "SepalWidthCm       -0.109369      1.000000      -0.420516     -0.356544\n",
              "PetalLengthCm       0.871754     -0.420516       1.000000      0.962757\n",
              "PetalWidthCm        0.817954     -0.356544       0.962757      1.000000"
            ],
            "text/html": [
              "\n",
              "  <div id=\"df-1755bf4b-a84d-4bc9-84f7-7fda92528f0c\">\n",
              "    <div class=\"colab-df-container\">\n",
              "      <div>\n",
              "<style scoped>\n",
              "    .dataframe tbody tr th:only-of-type {\n",
              "        vertical-align: middle;\n",
              "    }\n",
              "\n",
              "    .dataframe tbody tr th {\n",
              "        vertical-align: top;\n",
              "    }\n",
              "\n",
              "    .dataframe thead th {\n",
              "        text-align: right;\n",
              "    }\n",
              "</style>\n",
              "<table border=\"1\" class=\"dataframe\">\n",
              "  <thead>\n",
              "    <tr style=\"text-align: right;\">\n",
              "      <th></th>\n",
              "      <th>SepalLengthCm</th>\n",
              "      <th>SepalWidthCm</th>\n",
              "      <th>PetalLengthCm</th>\n",
              "      <th>PetalWidthCm</th>\n",
              "    </tr>\n",
              "  </thead>\n",
              "  <tbody>\n",
              "    <tr>\n",
              "      <th>SepalLengthCm</th>\n",
              "      <td>1.000000</td>\n",
              "      <td>-0.109369</td>\n",
              "      <td>0.871754</td>\n",
              "      <td>0.817954</td>\n",
              "    </tr>\n",
              "    <tr>\n",
              "      <th>SepalWidthCm</th>\n",
              "      <td>-0.109369</td>\n",
              "      <td>1.000000</td>\n",
              "      <td>-0.420516</td>\n",
              "      <td>-0.356544</td>\n",
              "    </tr>\n",
              "    <tr>\n",
              "      <th>PetalLengthCm</th>\n",
              "      <td>0.871754</td>\n",
              "      <td>-0.420516</td>\n",
              "      <td>1.000000</td>\n",
              "      <td>0.962757</td>\n",
              "    </tr>\n",
              "    <tr>\n",
              "      <th>PetalWidthCm</th>\n",
              "      <td>0.817954</td>\n",
              "      <td>-0.356544</td>\n",
              "      <td>0.962757</td>\n",
              "      <td>1.000000</td>\n",
              "    </tr>\n",
              "  </tbody>\n",
              "</table>\n",
              "</div>\n",
              "      <button class=\"colab-df-convert\" onclick=\"convertToInteractive('df-1755bf4b-a84d-4bc9-84f7-7fda92528f0c')\"\n",
              "              title=\"Convert this dataframe to an interactive table.\"\n",
              "              style=\"display:none;\">\n",
              "        \n",
              "  <svg xmlns=\"http://www.w3.org/2000/svg\" height=\"24px\"viewBox=\"0 0 24 24\"\n",
              "       width=\"24px\">\n",
              "    <path d=\"M0 0h24v24H0V0z\" fill=\"none\"/>\n",
              "    <path d=\"M18.56 5.44l.94 2.06.94-2.06 2.06-.94-2.06-.94-.94-2.06-.94 2.06-2.06.94zm-11 1L8.5 8.5l.94-2.06 2.06-.94-2.06-.94L8.5 2.5l-.94 2.06-2.06.94zm10 10l.94 2.06.94-2.06 2.06-.94-2.06-.94-.94-2.06-.94 2.06-2.06.94z\"/><path d=\"M17.41 7.96l-1.37-1.37c-.4-.4-.92-.59-1.43-.59-.52 0-1.04.2-1.43.59L10.3 9.45l-7.72 7.72c-.78.78-.78 2.05 0 2.83L4 21.41c.39.39.9.59 1.41.59.51 0 1.02-.2 1.41-.59l7.78-7.78 2.81-2.81c.8-.78.8-2.07 0-2.86zM5.41 20L4 18.59l7.72-7.72 1.47 1.35L5.41 20z\"/>\n",
              "  </svg>\n",
              "      </button>\n",
              "      \n",
              "  <style>\n",
              "    .colab-df-container {\n",
              "      display:flex;\n",
              "      flex-wrap:wrap;\n",
              "      gap: 12px;\n",
              "    }\n",
              "\n",
              "    .colab-df-convert {\n",
              "      background-color: #E8F0FE;\n",
              "      border: none;\n",
              "      border-radius: 50%;\n",
              "      cursor: pointer;\n",
              "      display: none;\n",
              "      fill: #1967D2;\n",
              "      height: 32px;\n",
              "      padding: 0 0 0 0;\n",
              "      width: 32px;\n",
              "    }\n",
              "\n",
              "    .colab-df-convert:hover {\n",
              "      background-color: #E2EBFA;\n",
              "      box-shadow: 0px 1px 2px rgba(60, 64, 67, 0.3), 0px 1px 3px 1px rgba(60, 64, 67, 0.15);\n",
              "      fill: #174EA6;\n",
              "    }\n",
              "\n",
              "    [theme=dark] .colab-df-convert {\n",
              "      background-color: #3B4455;\n",
              "      fill: #D2E3FC;\n",
              "    }\n",
              "\n",
              "    [theme=dark] .colab-df-convert:hover {\n",
              "      background-color: #434B5C;\n",
              "      box-shadow: 0px 1px 3px 1px rgba(0, 0, 0, 0.15);\n",
              "      filter: drop-shadow(0px 1px 2px rgba(0, 0, 0, 0.3));\n",
              "      fill: #FFFFFF;\n",
              "    }\n",
              "  </style>\n",
              "\n",
              "      <script>\n",
              "        const buttonEl =\n",
              "          document.querySelector('#df-1755bf4b-a84d-4bc9-84f7-7fda92528f0c button.colab-df-convert');\n",
              "        buttonEl.style.display =\n",
              "          google.colab.kernel.accessAllowed ? 'block' : 'none';\n",
              "\n",
              "        async function convertToInteractive(key) {\n",
              "          const element = document.querySelector('#df-1755bf4b-a84d-4bc9-84f7-7fda92528f0c');\n",
              "          const dataTable =\n",
              "            await google.colab.kernel.invokeFunction('convertToInteractive',\n",
              "                                                     [key], {});\n",
              "          if (!dataTable) return;\n",
              "\n",
              "          const docLinkHtml = 'Like what you see? Visit the ' +\n",
              "            '<a target=\"_blank\" href=https://colab.research.google.com/notebooks/data_table.ipynb>data table notebook</a>'\n",
              "            + ' to learn more about interactive tables.';\n",
              "          element.innerHTML = '';\n",
              "          dataTable['output_type'] = 'display_data';\n",
              "          await google.colab.output.renderOutput(dataTable, element);\n",
              "          const docLink = document.createElement('div');\n",
              "          docLink.innerHTML = docLinkHtml;\n",
              "          element.appendChild(docLink);\n",
              "        }\n",
              "      </script>\n",
              "    </div>\n",
              "  </div>\n",
              "  "
            ]
          },
          "metadata": {},
          "execution_count": 41
        }
      ]
    },
    {
      "cell_type": "code",
      "source": [
        "#to fing the shape of dataframe we use --> shape attribute.\n",
        "df.shape"
      ],
      "metadata": {
        "colab": {
          "base_uri": "https://localhost:8080/"
        },
        "id": "7UyysTJ3CPtG",
        "outputId": "d6752a09-3c10-4d35-a87d-2fb756e876d9"
      },
      "execution_count": 42,
      "outputs": [
        {
          "output_type": "execute_result",
          "data": {
            "text/plain": [
              "(150, 5)"
            ]
          },
          "metadata": {},
          "execution_count": 42
        }
      ]
    },
    {
      "cell_type": "code",
      "source": [
        "#to find datatype in dataframe,we use--> dtypes attribute.\n",
        "df.dtypes"
      ],
      "metadata": {
        "colab": {
          "base_uri": "https://localhost:8080/"
        },
        "id": "3dc_9Es6CRnl",
        "outputId": "b517c56a-9611-4c68-b12f-b31a7a42ccf0"
      },
      "execution_count": 43,
      "outputs": [
        {
          "output_type": "execute_result",
          "data": {
            "text/plain": [
              "SepalLengthCm    float64\n",
              "SepalWidthCm     float64\n",
              "PetalLengthCm    float64\n",
              "PetalWidthCm     float64\n",
              "Species           object\n",
              "dtype: object"
            ]
          },
          "metadata": {},
          "execution_count": 43
        }
      ]
    },
    {
      "cell_type": "code",
      "source": [
        "#describe() method will provide all statistical data/values fo your dataframe.\n",
        "df.describe()  \n",
        "#std = standard deviation {sumission of (x-xbar)/N}\n",
        "#25% = first quantile\n",
        "#50% = second quantile\n",
        "#75% = third quantile"
      ],
      "metadata": {
        "colab": {
          "base_uri": "https://localhost:8080/",
          "height": 300
        },
        "id": "flaQ1bemCWdp",
        "outputId": "64ddc7e7-707f-4892-f727-4f842b71dbdf"
      },
      "execution_count": 44,
      "outputs": [
        {
          "output_type": "execute_result",
          "data": {
            "text/plain": [
              "       SepalLengthCm  SepalWidthCm  PetalLengthCm  PetalWidthCm\n",
              "count     150.000000    150.000000     150.000000    150.000000\n",
              "mean        5.843333      3.054000       3.758667      1.198667\n",
              "std         0.828066      0.433594       1.764420      0.763161\n",
              "min         4.300000      2.000000       1.000000      0.100000\n",
              "25%         5.100000      2.800000       1.600000      0.300000\n",
              "50%         5.800000      3.000000       4.350000      1.300000\n",
              "75%         6.400000      3.300000       5.100000      1.800000\n",
              "max         7.900000      4.400000       6.900000      2.500000"
            ],
            "text/html": [
              "\n",
              "  <div id=\"df-3f704926-7819-4f7e-aee8-abc49c04ee36\">\n",
              "    <div class=\"colab-df-container\">\n",
              "      <div>\n",
              "<style scoped>\n",
              "    .dataframe tbody tr th:only-of-type {\n",
              "        vertical-align: middle;\n",
              "    }\n",
              "\n",
              "    .dataframe tbody tr th {\n",
              "        vertical-align: top;\n",
              "    }\n",
              "\n",
              "    .dataframe thead th {\n",
              "        text-align: right;\n",
              "    }\n",
              "</style>\n",
              "<table border=\"1\" class=\"dataframe\">\n",
              "  <thead>\n",
              "    <tr style=\"text-align: right;\">\n",
              "      <th></th>\n",
              "      <th>SepalLengthCm</th>\n",
              "      <th>SepalWidthCm</th>\n",
              "      <th>PetalLengthCm</th>\n",
              "      <th>PetalWidthCm</th>\n",
              "    </tr>\n",
              "  </thead>\n",
              "  <tbody>\n",
              "    <tr>\n",
              "      <th>count</th>\n",
              "      <td>150.000000</td>\n",
              "      <td>150.000000</td>\n",
              "      <td>150.000000</td>\n",
              "      <td>150.000000</td>\n",
              "    </tr>\n",
              "    <tr>\n",
              "      <th>mean</th>\n",
              "      <td>5.843333</td>\n",
              "      <td>3.054000</td>\n",
              "      <td>3.758667</td>\n",
              "      <td>1.198667</td>\n",
              "    </tr>\n",
              "    <tr>\n",
              "      <th>std</th>\n",
              "      <td>0.828066</td>\n",
              "      <td>0.433594</td>\n",
              "      <td>1.764420</td>\n",
              "      <td>0.763161</td>\n",
              "    </tr>\n",
              "    <tr>\n",
              "      <th>min</th>\n",
              "      <td>4.300000</td>\n",
              "      <td>2.000000</td>\n",
              "      <td>1.000000</td>\n",
              "      <td>0.100000</td>\n",
              "    </tr>\n",
              "    <tr>\n",
              "      <th>25%</th>\n",
              "      <td>5.100000</td>\n",
              "      <td>2.800000</td>\n",
              "      <td>1.600000</td>\n",
              "      <td>0.300000</td>\n",
              "    </tr>\n",
              "    <tr>\n",
              "      <th>50%</th>\n",
              "      <td>5.800000</td>\n",
              "      <td>3.000000</td>\n",
              "      <td>4.350000</td>\n",
              "      <td>1.300000</td>\n",
              "    </tr>\n",
              "    <tr>\n",
              "      <th>75%</th>\n",
              "      <td>6.400000</td>\n",
              "      <td>3.300000</td>\n",
              "      <td>5.100000</td>\n",
              "      <td>1.800000</td>\n",
              "    </tr>\n",
              "    <tr>\n",
              "      <th>max</th>\n",
              "      <td>7.900000</td>\n",
              "      <td>4.400000</td>\n",
              "      <td>6.900000</td>\n",
              "      <td>2.500000</td>\n",
              "    </tr>\n",
              "  </tbody>\n",
              "</table>\n",
              "</div>\n",
              "      <button class=\"colab-df-convert\" onclick=\"convertToInteractive('df-3f704926-7819-4f7e-aee8-abc49c04ee36')\"\n",
              "              title=\"Convert this dataframe to an interactive table.\"\n",
              "              style=\"display:none;\">\n",
              "        \n",
              "  <svg xmlns=\"http://www.w3.org/2000/svg\" height=\"24px\"viewBox=\"0 0 24 24\"\n",
              "       width=\"24px\">\n",
              "    <path d=\"M0 0h24v24H0V0z\" fill=\"none\"/>\n",
              "    <path d=\"M18.56 5.44l.94 2.06.94-2.06 2.06-.94-2.06-.94-.94-2.06-.94 2.06-2.06.94zm-11 1L8.5 8.5l.94-2.06 2.06-.94-2.06-.94L8.5 2.5l-.94 2.06-2.06.94zm10 10l.94 2.06.94-2.06 2.06-.94-2.06-.94-.94-2.06-.94 2.06-2.06.94z\"/><path d=\"M17.41 7.96l-1.37-1.37c-.4-.4-.92-.59-1.43-.59-.52 0-1.04.2-1.43.59L10.3 9.45l-7.72 7.72c-.78.78-.78 2.05 0 2.83L4 21.41c.39.39.9.59 1.41.59.51 0 1.02-.2 1.41-.59l7.78-7.78 2.81-2.81c.8-.78.8-2.07 0-2.86zM5.41 20L4 18.59l7.72-7.72 1.47 1.35L5.41 20z\"/>\n",
              "  </svg>\n",
              "      </button>\n",
              "      \n",
              "  <style>\n",
              "    .colab-df-container {\n",
              "      display:flex;\n",
              "      flex-wrap:wrap;\n",
              "      gap: 12px;\n",
              "    }\n",
              "\n",
              "    .colab-df-convert {\n",
              "      background-color: #E8F0FE;\n",
              "      border: none;\n",
              "      border-radius: 50%;\n",
              "      cursor: pointer;\n",
              "      display: none;\n",
              "      fill: #1967D2;\n",
              "      height: 32px;\n",
              "      padding: 0 0 0 0;\n",
              "      width: 32px;\n",
              "    }\n",
              "\n",
              "    .colab-df-convert:hover {\n",
              "      background-color: #E2EBFA;\n",
              "      box-shadow: 0px 1px 2px rgba(60, 64, 67, 0.3), 0px 1px 3px 1px rgba(60, 64, 67, 0.15);\n",
              "      fill: #174EA6;\n",
              "    }\n",
              "\n",
              "    [theme=dark] .colab-df-convert {\n",
              "      background-color: #3B4455;\n",
              "      fill: #D2E3FC;\n",
              "    }\n",
              "\n",
              "    [theme=dark] .colab-df-convert:hover {\n",
              "      background-color: #434B5C;\n",
              "      box-shadow: 0px 1px 3px 1px rgba(0, 0, 0, 0.15);\n",
              "      filter: drop-shadow(0px 1px 2px rgba(0, 0, 0, 0.3));\n",
              "      fill: #FFFFFF;\n",
              "    }\n",
              "  </style>\n",
              "\n",
              "      <script>\n",
              "        const buttonEl =\n",
              "          document.querySelector('#df-3f704926-7819-4f7e-aee8-abc49c04ee36 button.colab-df-convert');\n",
              "        buttonEl.style.display =\n",
              "          google.colab.kernel.accessAllowed ? 'block' : 'none';\n",
              "\n",
              "        async function convertToInteractive(key) {\n",
              "          const element = document.querySelector('#df-3f704926-7819-4f7e-aee8-abc49c04ee36');\n",
              "          const dataTable =\n",
              "            await google.colab.kernel.invokeFunction('convertToInteractive',\n",
              "                                                     [key], {});\n",
              "          if (!dataTable) return;\n",
              "\n",
              "          const docLinkHtml = 'Like what you see? Visit the ' +\n",
              "            '<a target=\"_blank\" href=https://colab.research.google.com/notebooks/data_table.ipynb>data table notebook</a>'\n",
              "            + ' to learn more about interactive tables.';\n",
              "          element.innerHTML = '';\n",
              "          dataTable['output_type'] = 'display_data';\n",
              "          await google.colab.output.renderOutput(dataTable, element);\n",
              "          const docLink = document.createElement('div');\n",
              "          docLink.innerHTML = docLinkHtml;\n",
              "          element.appendChild(docLink);\n",
              "        }\n",
              "      </script>\n",
              "    </div>\n",
              "  </div>\n",
              "  "
            ]
          },
          "metadata": {},
          "execution_count": 44
        }
      ]
    },
    {
      "cell_type": "code",
      "source": [
        "# to find column name,non null count[missing data],and its type--> we use info().\n",
        "df.info()"
      ],
      "metadata": {
        "colab": {
          "base_uri": "https://localhost:8080/"
        },
        "id": "4XL6GUKICYzx",
        "outputId": "f85f3a71-4c88-42ca-86c8-25e85cac333e"
      },
      "execution_count": 45,
      "outputs": [
        {
          "output_type": "stream",
          "name": "stdout",
          "text": [
            "<class 'pandas.core.frame.DataFrame'>\n",
            "RangeIndex: 150 entries, 0 to 149\n",
            "Data columns (total 5 columns):\n",
            " #   Column         Non-Null Count  Dtype  \n",
            "---  ------         --------------  -----  \n",
            " 0   SepalLengthCm  150 non-null    float64\n",
            " 1   SepalWidthCm   150 non-null    float64\n",
            " 2   PetalLengthCm  150 non-null    float64\n",
            " 3   PetalWidthCm   150 non-null    float64\n",
            " 4   Species        150 non-null    object \n",
            "dtypes: float64(4), object(1)\n",
            "memory usage: 6.0+ KB\n"
          ]
        }
      ]
    },
    {
      "cell_type": "code",
      "source": [
        "# Plotiing all Categories of flower -->\n",
        "\n",
        "df1=df[:50]\n",
        "df2=df[50:100]\n",
        "df3=df[100:]\n",
        "plt.xlabel('SepalLengthCm')\n",
        "plt.ylabel('SepalWidthCm')\n",
        "plt.scatter(df1['SepalLengthCm'],df1['SepalWidthCm'],color='red',marker='+')\n",
        "plt.scatter(df2['SepalLengthCm'],df2['SepalWidthCm'],color='cyan',marker='D')\n",
        "plt.scatter(df3['SepalLengthCm'],df3['SepalWidthCm'],color='blue',marker='<')\n",
        "plt.legend(['setosa','versicolor','virginica'])\n",
        "plt.show()"
      ],
      "metadata": {
        "colab": {
          "base_uri": "https://localhost:8080/",
          "height": 452
        },
        "id": "StkHJwJsC_mC",
        "outputId": "ebe95273-9f97-4c3f-cd49-aa24bc100ad0"
      },
      "execution_count": 46,
      "outputs": [
        {
          "output_type": "display_data",
          "data": {
            "text/plain": [
              "<Figure size 640x480 with 1 Axes>"
            ],
            "image/png": "[encoded data removed]"
          },
          "metadata": {}
        }
      ]
    },
    {
      "cell_type": "code",
      "source": [
        "# Declaring types of Flowers in an array-->\n",
        "\n",
        "ele = [\"Iris-setosa\", \"Iris-versicolor\", \"Iris-virginica\"]"
      ],
      "metadata": {
        "id": "U4jjH_k1MR08"
      },
      "execution_count": 47,
      "outputs": []
    },
    {
      "cell_type": "code",
      "source": [
        "# Plotting Sepal Length -->\n",
        "\n",
        "plt.figure(figsize=(7,7))\n",
        "plt.hist(df['SepalLengthCm'],color='pink')\n",
        "plt.title('Distribution of Sepal Length')\n",
        "plt.xlabel('Sepal.length')\n",
        "plt.show()"
      ],
      "metadata": {
        "colab": {
          "base_uri": "https://localhost:8080/",
          "height": 641
        },
        "id": "4U3AzyiiJO1s",
        "outputId": "48cfae35-63ee-46c2-f949-a02186c62e6f"
      },
      "execution_count": 48,
      "outputs": [
        {
          "output_type": "display_data",
          "data": {
            "text/plain": [
              "<Figure size 700x700 with 1 Axes>"
            ],
            "image/png": "[encoded data removed]"
          },
          "metadata": {}
        }
      ]
    },
    {
      "cell_type": "code",
      "source": [
        "# Plotting Sepal Width -->\n",
        "\n",
        "plt.figure(figsize=(7,7))\n",
        "plt.hist(df['SepalWidthCm'],color='pink')\n",
        "plt.title('Distribution of Sepal Width')\n",
        "plt.xlabel('Sepal.width')\n",
        "plt.show()"
      ],
      "metadata": {
        "colab": {
          "base_uri": "https://localhost:8080/",
          "height": 641
        },
        "id": "XoJ5COFDJTGk",
        "outputId": "0535bb1a-1cc3-423b-b856-9a0b271aff28"
      },
      "execution_count": 49,
      "outputs": [
        {
          "output_type": "display_data",
          "data": {
            "text/plain": [
              "<Figure size 700x700 with 1 Axes>"
            ],
            "image/png": "[encoded data removed]"
          },
          "metadata": {}
        }
      ]
    },
    {
      "cell_type": "code",
      "source": [
        "# Plotting Petal Length -->\n",
        "\n",
        "plt.figure(figsize=(7,7))\n",
        "plt.hist(df['PetalLengthCm'],color='green')\n",
        "plt.title('Distribution of Petal Length')\n",
        "plt.xlabel('Petal.length')\n",
        "plt.show()"
      ],
      "metadata": {
        "colab": {
          "base_uri": "https://localhost:8080/",
          "height": 641
        },
        "id": "OPvGE0LWJVYT",
        "outputId": "16c6026e-5df8-4563-993a-02b19291a656"
      },
      "execution_count": 50,
      "outputs": [
        {
          "output_type": "display_data",
          "data": {
            "text/plain": [
              "<Figure size 700x700 with 1 Axes>"
            ],
            "image/png": "[encoded data removed]"
          },
          "metadata": {}
        }
      ]
    },
    {
      "cell_type": "code",
      "source": [
        "# Plotting Petal Width -->\n",
        "\n",
        "plt.figure(figsize=(7,7))\n",
        "plt.hist(df['PetalWidthCm'],color='green')\n",
        "plt.title('Distribution of Petal Width')\n",
        "plt.xlabel('Petal.width')\n",
        "plt.show()"
      ],
      "metadata": {
        "colab": {
          "base_uri": "https://localhost:8080/",
          "height": 641
        },
        "id": "5wIgmqSJJa3u",
        "outputId": "960c0f75-5841-44c7-cc5a-eb961108a300"
      },
      "execution_count": 51,
      "outputs": [
        {
          "output_type": "display_data",
          "data": {
            "text/plain": [
              "<Figure size 700x700 with 1 Axes>"
            ],
            "image/png": "[encoded data removed]"
          },
          "metadata": {}
        }
      ]
    },
    {
      "cell_type": "markdown",
      "source": [
        "**Model 1 --> Sepal Length**"
      ],
      "metadata": {
        "id": "fnwd6DhpJkm9"
      }
    },
    {
      "cell_type": "code",
      "source": [
        "# Creating  Model with SepalLength as Independent variables -->\n",
        "\n",
        "X = df[['SepalLengthCm']]\n",
        "y = df[['Species']]\n",
        "from sklearn.model_selection import train_test_split\n",
        "X_train,X_test,y_train,y_test = train_test_split(X,y,test_size=0.3)\n",
        "from sklearn.tree import DecisionTreeClassifier\n",
        "dt = DecisionTreeClassifier()\n",
        "dt.fit(X_train,y_train)\n",
        "y_pred = dt.predict(X_test)\n",
        "from sklearn.metrics import confusion_matrix\n",
        "cm = confusion_matrix(y_test,y_pred)\n",
        "x = np.array(cm)\n",
        "a= (x[0][0]+x[1][1]+x[2][2])/(x[0][0]+x[0][1]+x[0][2]+x[1][0]+x[1][1]+x[1][2]+x[2][0]+x[2][1]+x[2][2])\n",
        "print(\"accuracy=\",a.round(3))\n",
        "print(\"-----------------------------------------\")\n",
        "print(\"error rate=\",(1-a).round(3))"
      ],
      "metadata": {
        "colab": {
          "base_uri": "https://localhost:8080/"
        },
        "id": "NJpr8TJTJstK",
        "outputId": "255f400a-b64a-40c8-df52-a2b9d566651f"
      },
      "execution_count": 52,
      "outputs": [
        {
          "output_type": "stream",
          "name": "stdout",
          "text": [
            "accuracy= 0.756\n",
            "-----------------------------------------\n",
            "error rate= 0.244\n"
          ]
        }
      ]
    },
    {
      "cell_type": "code",
      "source": [
        "# Confusion Matrix -->\n",
        "\n",
        "print(\"Confusion Matrix:\")\n",
        "sns.heatmap(cm,annot=True, xticklabels=ele, yticklabels=ele)"
      ],
      "metadata": {
        "colab": {
          "base_uri": "https://localhost:8080/",
          "height": 466
        },
        "id": "D-Eq-nAhL5YP",
        "outputId": "5e6e53e8-cdbb-4f96-848d-d873ae2c0969"
      },
      "execution_count": 53,
      "outputs": [
        {
          "output_type": "stream",
          "name": "stdout",
          "text": [
            "Confusion Matrix:\n"
          ]
        },
        {
          "output_type": "execute_result",
          "data": {
            "text/plain": [
              "<Axes: >"
            ]
          },
          "metadata": {},
          "execution_count": 53
        },
        {
          "output_type": "display_data",
          "data": {
            "text/plain": [
              "<Figure size 640x480 with 2 Axes>"
            ],
            "image/png": "[encoded data removed]"
          },
          "metadata": {}
        }
      ]
    },
    {
      "cell_type": "code",
      "source": [
        "# Classification Report -->\n",
        "\n",
        "from sklearn.metrics import classification_report\n",
        "report = classification_report(y_test,y_pred)\n",
        "print(report)"
      ],
      "metadata": {
        "colab": {
          "base_uri": "https://localhost:8080/"
        },
        "id": "nJ46-1tZJw04",
        "outputId": "6e65bc40-adff-49b6-fc16-225393882195"
      },
      "execution_count": 54,
      "outputs": [
        {
          "output_type": "stream",
          "name": "stdout",
          "text": [
            "                 precision    recall  f1-score   support\n",
            "\n",
            "    Iris-setosa       0.89      0.89      0.89        19\n",
            "Iris-versicolor       0.65      0.69      0.67        16\n",
            " Iris-virginica       0.67      0.60      0.63        10\n",
            "\n",
            "       accuracy                           0.76        45\n",
            "      macro avg       0.74      0.73      0.73        45\n",
            "   weighted avg       0.76      0.76      0.76        45\n",
            "\n"
          ]
        }
      ]
    },
    {
      "cell_type": "markdown",
      "source": [
        "**Model 2 --> Petal Length**"
      ],
      "metadata": {
        "id": "PYgbZj_UJy7M"
      }
    },
    {
      "cell_type": "code",
      "source": [
        "# Creating  Model with PetalLength as Independent variables -->\n",
        "\n",
        "X = df[['PetalLengthCm']]\n",
        "y = df[['Species']]\n",
        "from sklearn.model_selection import train_test_split\n",
        "X_train,X_test,y_train,y_test = train_test_split(X,y,test_size=0.3)\n",
        "from sklearn.tree import DecisionTreeClassifier\n",
        "dt = DecisionTreeClassifier()\n",
        "dt.fit(X_train,y_train)\n",
        "y_pred = dt.predict(X_test)\n",
        "from sklearn.metrics import confusion_matrix\n",
        "cm = confusion_matrix(y_test,y_pred)\n",
        "x = np.array(cm)\n",
        "a= (x[0][0]+x[1][1]+x[2][2])/(x.sum())\n",
        "print(\"accuracy=\",a.round(3))\n",
        "print(\"-----------------------------------------\")\n",
        "print(\"error rate=\",(1-a).round(3))"
      ],
      "metadata": {
        "colab": {
          "base_uri": "https://localhost:8080/"
        },
        "id": "EWrzPo2SJ6rt",
        "outputId": "b2aec6f2-f1ac-423c-f61a-d1fbca797fc3"
      },
      "execution_count": 55,
      "outputs": [
        {
          "output_type": "stream",
          "name": "stdout",
          "text": [
            "accuracy= 0.911\n",
            "-----------------------------------------\n",
            "error rate= 0.089\n"
          ]
        }
      ]
    },
    {
      "cell_type": "code",
      "source": [
        "# Confusion Matrix -->\n",
        "\n",
        "print(\"Confusion Matrix:\")\n",
        "sns.heatmap(cm,annot=True, xticklabels=ele, yticklabels=ele)"
      ],
      "metadata": {
        "colab": {
          "base_uri": "https://localhost:8080/",
          "height": 471
        },
        "id": "0K7zg_YmMkRT",
        "outputId": "bd17b7a2-3255-450f-9476-02a494c41152"
      },
      "execution_count": 56,
      "outputs": [
        {
          "output_type": "stream",
          "name": "stdout",
          "text": [
            "Confusion Matrix:\n"
          ]
        },
        {
          "output_type": "execute_result",
          "data": {
            "text/plain": [
              "<Axes: >"
            ]
          },
          "metadata": {},
          "execution_count": 56
        },
        {
          "output_type": "display_data",
          "data": {
            "text/plain": [
              "<Figure size 640x480 with 2 Axes>"
            ],
            "image/png": "[encoded data removed]"
          },
          "metadata": {}
        }
      ]
    },
    {
      "cell_type": "code",
      "source": [
        "# Classification Report -->\n",
        "\n",
        "from sklearn.metrics import classification_report\n",
        "report = classification_report(y_test,y_pred)\n",
        "print(report)"
      ],
      "metadata": {
        "colab": {
          "base_uri": "https://localhost:8080/"
        },
        "id": "tLsDoskxKr4K",
        "outputId": "f9bfd7f1-b23a-4faf-9ef6-1e51f5bda47e"
      },
      "execution_count": 57,
      "outputs": [
        {
          "output_type": "stream",
          "name": "stdout",
          "text": [
            "                 precision    recall  f1-score   support\n",
            "\n",
            "    Iris-setosa       1.00      1.00      1.00        18\n",
            "Iris-versicolor       1.00      0.76      0.87        17\n",
            " Iris-virginica       0.71      1.00      0.83        10\n",
            "\n",
            "       accuracy                           0.91        45\n",
            "      macro avg       0.90      0.92      0.90        45\n",
            "   weighted avg       0.94      0.91      0.91        45\n",
            "\n"
          ]
        }
      ]
    },
    {
      "cell_type": "markdown",
      "source": [
        "**Model 3 --> Sepal Length and Petal Length**"
      ],
      "metadata": {
        "id": "ICYq0GyaJ0Qf"
      }
    },
    {
      "cell_type": "code",
      "source": [
        "# Creating  Model with SepalLength and PetalLength as Independent variables -->\n",
        "\n",
        "X = df[['SepalLengthCm','PetalLengthCm']]\n",
        "y = df[['Species']]\n",
        "from sklearn.model_selection import train_test_split\n",
        "X_train,X_test,y_train,y_test = train_test_split(X,y,test_size=0.3)\n",
        "from sklearn.tree import DecisionTreeClassifier\n",
        "dt = DecisionTreeClassifier()\n",
        "dt.fit(X_train,y_train)\n",
        "y_pred = dt.predict(X_test)\n",
        "from sklearn.metrics import confusion_matrix\n",
        "cm = confusion_matrix(y_test,y_pred)\n",
        "x = np.array(cm)\n",
        "a= (x[0][0]+x[1][1]+x[2][2])/(x.sum())\n",
        "print(\"accuracy=\",a.round(3))\n",
        "print(\"-----------------------------------------\")\n",
        "print(\"error rate=\",(1-a).round(3))"
      ],
      "metadata": {
        "colab": {
          "base_uri": "https://localhost:8080/"
        },
        "id": "Bs5QBjGDJ1xZ",
        "outputId": "b36e23e8-9228-430b-d128-d824ecd6c485"
      },
      "execution_count": 58,
      "outputs": [
        {
          "output_type": "stream",
          "name": "stdout",
          "text": [
            "accuracy= 0.933\n",
            "-----------------------------------------\n",
            "error rate= 0.067\n"
          ]
        }
      ]
    },
    {
      "cell_type": "code",
      "source": [
        "# Confusion Matrix -->\n",
        "\n",
        "print(\"Confusion Matrix:\")\n",
        "sns.heatmap(cm,annot=True, xticklabels=ele, yticklabels=ele)"
      ],
      "metadata": {
        "colab": {
          "base_uri": "https://localhost:8080/",
          "height": 471
        },
        "id": "Pwa6kXa_MlWn",
        "outputId": "d9db6851-e8ce-4589-9125-efd8d5fa1085"
      },
      "execution_count": 59,
      "outputs": [
        {
          "output_type": "stream",
          "name": "stdout",
          "text": [
            "Confusion Matrix:\n"
          ]
        },
        {
          "output_type": "execute_result",
          "data": {
            "text/plain": [
              "<Axes: >"
            ]
          },
          "metadata": {},
          "execution_count": 59
        },
        {
          "output_type": "display_data",
          "data": {
            "text/plain": [
              "<Figure size 640x480 with 2 Axes>"
            ],
            "image/png": "[encoded data removed]"
          },
          "metadata": {}
        }
      ]
    },
    {
      "cell_type": "code",
      "source": [
        "# Classification Report -->\n",
        "\n",
        "from sklearn.metrics import classification_report\n",
        "report = classification_report(y_test,y_pred)\n",
        "print(report)"
      ],
      "metadata": {
        "colab": {
          "base_uri": "https://localhost:8080/"
        },
        "id": "9cX9SrdcKscg",
        "outputId": "422b75b7-5dd7-4343-d9ca-9bf54a5743b1"
      },
      "execution_count": 60,
      "outputs": [
        {
          "output_type": "stream",
          "name": "stdout",
          "text": [
            "                 precision    recall  f1-score   support\n",
            "\n",
            "    Iris-setosa       1.00      1.00      1.00        16\n",
            "Iris-versicolor       0.92      0.85      0.88        13\n",
            " Iris-virginica       0.88      0.94      0.91        16\n",
            "\n",
            "       accuracy                           0.93        45\n",
            "      macro avg       0.93      0.93      0.93        45\n",
            "   weighted avg       0.93      0.93      0.93        45\n",
            "\n"
          ]
        }
      ]
    },
    {
      "cell_type": "markdown",
      "source": [
        "**Model 4 --> Sepal Width**"
      ],
      "metadata": {
        "id": "HlkXjdKeJ2eE"
      }
    },
    {
      "cell_type": "code",
      "source": [
        "# Creating  Model with SepalWidth  as Independent variables -->\n",
        "\n",
        "X = df[['SepalWidthCm']]\n",
        "y = df[['Species']]\n",
        "from sklearn.model_selection import train_test_split\n",
        "X_train,X_test,y_train,y_test = train_test_split(X,y,test_size=0.3)\n",
        "from sklearn.tree import DecisionTreeClassifier\n",
        "dt = DecisionTreeClassifier()\n",
        "dt.fit(X_train,y_train)\n",
        "y_pred = dt.predict(X_test)\n",
        "from sklearn.metrics import confusion_matrix\n",
        "cm = confusion_matrix(y_test,y_pred)\n",
        "x = np.array(cm)\n",
        "a= (x[0][0]+x[1][1]+x[2][2])/(x.sum())\n",
        "print(\"accuracy=\",a.round(3))\n",
        "print(\"-----------------------------------------\")\n",
        "print(\"error rate=\",(1-a).round(3))"
      ],
      "metadata": {
        "colab": {
          "base_uri": "https://localhost:8080/"
        },
        "id": "wlPDEct7J_x-",
        "outputId": "12af5147-976d-4b95-8f45-83ce372ac47c"
      },
      "execution_count": 61,
      "outputs": [
        {
          "output_type": "stream",
          "name": "stdout",
          "text": [
            "accuracy= 0.533\n",
            "-----------------------------------------\n",
            "error rate= 0.467\n"
          ]
        }
      ]
    },
    {
      "cell_type": "code",
      "source": [
        "# Confusion Matrix -->\n",
        "\n",
        "print(\"Confusion Matrix:\")\n",
        "sns.heatmap(cm,annot=True, xticklabels=ele, yticklabels=ele)"
      ],
      "metadata": {
        "colab": {
          "base_uri": "https://localhost:8080/",
          "height": 471
        },
        "id": "571XORwhMmRt",
        "outputId": "eb4ca8a9-e112-4445-bcd5-46fa4daba190"
      },
      "execution_count": 62,
      "outputs": [
        {
          "output_type": "stream",
          "name": "stdout",
          "text": [
            "Confusion Matrix:\n"
          ]
        },
        {
          "output_type": "execute_result",
          "data": {
            "text/plain": [
              "<Axes: >"
            ]
          },
          "metadata": {},
          "execution_count": 62
        },
        {
          "output_type": "display_data",
          "data": {
            "text/plain": [
              "<Figure size 640x480 with 2 Axes>"
            ],
            "image/png": "[encoded data removed]"
          },
          "metadata": {}
        }
      ]
    },
    {
      "cell_type": "code",
      "source": [
        "# Classification Report -->\n",
        "\n",
        "from sklearn.metrics import classification_report\n",
        "report = classification_report(y_test,y_pred)\n",
        "print(report)"
      ],
      "metadata": {
        "colab": {
          "base_uri": "https://localhost:8080/"
        },
        "id": "cYuFh1hZKs86",
        "outputId": "01abf246-43d6-4fcd-91aa-e09e8587c1a4"
      },
      "execution_count": 63,
      "outputs": [
        {
          "output_type": "stream",
          "name": "stdout",
          "text": [
            "                 precision    recall  f1-score   support\n",
            "\n",
            "    Iris-setosa       0.59      0.62      0.61        16\n",
            "Iris-versicolor       0.59      0.71      0.65        14\n",
            " Iris-virginica       0.36      0.27      0.31        15\n",
            "\n",
            "       accuracy                           0.53        45\n",
            "      macro avg       0.51      0.54      0.52        45\n",
            "   weighted avg       0.51      0.53      0.52        45\n",
            "\n"
          ]
        }
      ]
    },
    {
      "cell_type": "markdown",
      "source": [
        "**Model 5 --> Petal Width**"
      ],
      "metadata": {
        "id": "vqfPg2SiJ3rA"
      }
    },
    {
      "cell_type": "code",
      "source": [
        "# Creating  Model with PetalWidth as Independent variables -->\n",
        "\n",
        "X = df[['PetalWidthCm']]\n",
        "y = df[['Species']]\n",
        "from sklearn.model_selection import train_test_split\n",
        "X_train,X_test,y_train,y_test = train_test_split(X,y,test_size=0.3)\n",
        "from sklearn.tree import DecisionTreeClassifier\n",
        "dt = DecisionTreeClassifier()\n",
        "dt.fit(X_train,y_train)\n",
        "y_pred = dt.predict(X_test)\n",
        "from sklearn.metrics import confusion_matrix\n",
        "cm = confusion_matrix(y_test,y_pred)\n",
        "x = np.array(cm)\n",
        "a= (x[0][0]+x[1][1]+x[2][2])/(x.sum())\n",
        "print(\"accuracy=\",a.round(3))\n",
        "print(\"-----------------------------------------\")\n",
        "print(\"error rate=\",(1-a).round(3))"
      ],
      "metadata": {
        "colab": {
          "base_uri": "https://localhost:8080/"
        },
        "id": "JxP-LfWIKCGV",
        "outputId": "9a111f90-58c6-498a-f28b-0510e67adda0"
      },
      "execution_count": 64,
      "outputs": [
        {
          "output_type": "stream",
          "name": "stdout",
          "text": [
            "accuracy= 0.956\n",
            "-----------------------------------------\n",
            "error rate= 0.044\n"
          ]
        }
      ]
    },
    {
      "cell_type": "code",
      "source": [
        "# Confusion Matrix -->\n",
        "\n",
        "print(\"Confusion Matrix:\")\n",
        "sns.heatmap(cm,annot=True, xticklabels=ele, yticklabels=ele)"
      ],
      "metadata": {
        "colab": {
          "base_uri": "https://localhost:8080/",
          "height": 466
        },
        "id": "_xv6d1JdMnNs",
        "outputId": "10e8a51d-95ae-47e6-a436-4b8db12aa15a"
      },
      "execution_count": 65,
      "outputs": [
        {
          "output_type": "stream",
          "name": "stdout",
          "text": [
            "Confusion Matrix:\n"
          ]
        },
        {
          "output_type": "execute_result",
          "data": {
            "text/plain": [
              "<Axes: >"
            ]
          },
          "metadata": {},
          "execution_count": 65
        },
        {
          "output_type": "display_data",
          "data": {
            "text/plain": [
              "<Figure size 640x480 with 2 Axes>"
            ],
            "image/png": "[encoded data removed]"
          },
          "metadata": {}
        }
      ]
    },
    {
      "cell_type": "code",
      "source": [
        "# Classification Report -->\n",
        "\n",
        "from sklearn.metrics import classification_report\n",
        "report = classification_report(y_test,y_pred)\n",
        "print(report)"
      ],
      "metadata": {
        "colab": {
          "base_uri": "https://localhost:8080/"
        },
        "id": "9KXnoMynKuV3",
        "outputId": "05abb2b7-b6a5-4cbf-dd3e-6f22241bbf49"
      },
      "execution_count": 66,
      "outputs": [
        {
          "output_type": "stream",
          "name": "stdout",
          "text": [
            "                 precision    recall  f1-score   support\n",
            "\n",
            "    Iris-setosa       1.00      1.00      1.00        10\n",
            "Iris-versicolor       0.89      1.00      0.94        16\n",
            " Iris-virginica       1.00      0.89      0.94        19\n",
            "\n",
            "       accuracy                           0.96        45\n",
            "      macro avg       0.96      0.96      0.96        45\n",
            "   weighted avg       0.96      0.96      0.96        45\n",
            "\n"
          ]
        }
      ]
    },
    {
      "cell_type": "markdown",
      "source": [
        "**Model 6 --> Sepal Width and Petal Width**"
      ],
      "metadata": {
        "id": "IcaLQU3HJ5Ht"
      }
    },
    {
      "cell_type": "code",
      "source": [
        "# Creating  Model with SepalWidth and PetalWidth as Independent variables -->\n",
        "\n",
        "X = df[['SepalWidthCm','PetalWidthCm']]\n",
        "y = df[['Species']]\n",
        "from sklearn.model_selection import train_test_split\n",
        "X_train,X_test,y_train,y_test = train_test_split(X,y,test_size=0.3)\n",
        "from sklearn.tree import DecisionTreeClassifier\n",
        "dt = DecisionTreeClassifier()\n",
        "dt.fit(X_train,y_train)\n",
        "y_pred = dt.predict(X_test)\n",
        "from sklearn.metrics import confusion_matrix\n",
        "cm = confusion_matrix(y_test,y_pred)\n",
        "x = np.array(cm)\n",
        "a= (x[0][0]+x[1][1]+x[2][2])/(x.sum())\n",
        "print(\"accuracy=\",a.round(3))\n",
        "print(\"-----------------------------------------\")\n",
        "print(\"error rate=\",(1-a).round(3))"
      ],
      "metadata": {
        "colab": {
          "base_uri": "https://localhost:8080/"
        },
        "id": "PiLC76_JKDsO",
        "outputId": "81bd063b-8813-4e11-89b6-62c9e70bd44e"
      },
      "execution_count": 67,
      "outputs": [
        {
          "output_type": "stream",
          "name": "stdout",
          "text": [
            "accuracy= 0.889\n",
            "-----------------------------------------\n",
            "error rate= 0.111\n"
          ]
        }
      ]
    },
    {
      "cell_type": "code",
      "source": [
        "# Confusion Matrix -->\n",
        "\n",
        "print(\"Confusion Matrix:\")\n",
        "sns.heatmap(cm,annot=True, xticklabels=ele, yticklabels=ele)"
      ],
      "metadata": {
        "colab": {
          "base_uri": "https://localhost:8080/",
          "height": 471
        },
        "id": "_CPPPDRkMoFV",
        "outputId": "cf150518-ee1a-46d1-9f4d-d0ac500c0824"
      },
      "execution_count": 68,
      "outputs": [
        {
          "output_type": "stream",
          "name": "stdout",
          "text": [
            "Confusion Matrix:\n"
          ]
        },
        {
          "output_type": "execute_result",
          "data": {
            "text/plain": [
              "<Axes: >"
            ]
          },
          "metadata": {},
          "execution_count": 68
        },
        {
          "output_type": "display_data",
          "data": {
            "text/plain": [
              "<Figure size 640x480 with 2 Axes>"
            ],
            "image/png": "[encoded data removed]"
          },
          "metadata": {}
        }
      ]
    },
    {
      "cell_type": "code",
      "source": [
        "# Classification Report -->\n",
        "\n",
        "from sklearn.metrics import classification_report\n",
        "report = classification_report(y_test,y_pred)\n",
        "print(report)"
      ],
      "metadata": {
        "colab": {
          "base_uri": "https://localhost:8080/"
        },
        "id": "oXqCLSXhKvFg",
        "outputId": "3e656a49-94d7-4da7-8d4d-1fb9bf08f33f"
      },
      "execution_count": 69,
      "outputs": [
        {
          "output_type": "stream",
          "name": "stdout",
          "text": [
            "                 precision    recall  f1-score   support\n",
            "\n",
            "    Iris-setosa       1.00      1.00      1.00        16\n",
            "Iris-versicolor       0.82      0.75      0.78        12\n",
            " Iris-virginica       0.83      0.88      0.86        17\n",
            "\n",
            "       accuracy                           0.89        45\n",
            "      macro avg       0.88      0.88      0.88        45\n",
            "   weighted avg       0.89      0.89      0.89        45\n",
            "\n"
          ]
        }
      ]
    }
  ]
}